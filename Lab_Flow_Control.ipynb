{
  "nbformat": 4,
  "nbformat_minor": 0,
  "metadata": {
    "colab": {
      "provenance": []
    },
    "kernelspec": {
      "name": "python3",
      "display_name": "Python 3"
    },
    "language_info": {
      "name": "python"
    }
  },
  "cells": [
    {
      "cell_type": "code",
      "execution_count": null,
      "metadata": {
        "id": "t_k44LmHUage"
      },
      "outputs": [],
      "source": [
        "\n",
        "products = [\"t-shirt\", \"mug\", \"hat\", \"book\", \"keychain\"]\n",
        "\n",
        "\n",
        "inventory = {}\n",
        "\n",
        "\n",
        "for product in products:\n",
        "    quantity = int(input(f\"Enter the quantity available for {product}: \"))\n",
        "    inventory[product] = quantity\n",
        "\n",
        "\n",
        "customer_orders = set()\n",
        "\n",
        "\n",
        "while True:\n",
        "    product = input(\"Enter the name of a product that the customer wants to order: \").lower()\n",
        "    if product in products:\n",
        "        customer_orders.add(product)\n",
        "        print(f\"{product} has been added to the order.\")\n",
        "    else:\n",
        "        print(f\"{product} is not available. Please choose from {products}.\")\n",
        "\n",
        "\n",
        "    another = input(\"Do you want to add another product? (yes/no): \").lower()\n",
        "    if another != 'yes':\n",
        "        break\n",
        "\n",
        "\n",
        "print(\"Customer Orders:\", customer_orders)\n",
        "\n",
        "\n",
        "total_products_ordered = len(customer_orders)\n",
        "percentage_ordered = (total_products_ordered / len(products)) * 100\n",
        "order_status = (total_products_ordered, percentage_ordered)\n",
        "\n",
        "\n",
        "print(\"Order Statistics:\")\n",
        "print(f\"Total Products Ordered: {order_status[0]}\")\n",
        "print(f\"Percentage of Products Ordered: {order_status[1]:.2f}%\")\n",
        "\n",
        "\n",
        "for product in customer_orders:\n",
        "    if inventory[product] > 0:\n",
        "        inventory[product] -= 1\n",
        "    else:\n",
        "        print(f\"Sorry, {product} is out of stock!\")\n",
        "\n",
        "\n",
        "print(\"Updated Inventory:\")\n",
        "for product, quantity in inventory.items():\n",
        "    print(f\"{product}: {quantity}\")\n"
      ]
    }
  ]
}